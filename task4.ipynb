{
 "cells": [
  {
   "cell_type": "markdown",
   "id": "46814dd6",
   "metadata": {},
   "source": [
    "# Add value"
   ]
  },
  {
   "cell_type": "code",
   "execution_count": 1,
   "id": "89cef37f",
   "metadata": {},
   "outputs": [
    {
     "data": {
      "text/plain": [
       "19"
      ]
     },
     "execution_count": 1,
     "metadata": {},
     "output_type": "execute_result"
    }
   ],
   "source": [
    "class mathOperation:\n",
    "    a = 0\n",
    "    b = 0\n",
    "    op = ''\n",
    "\n",
    "    def __init__(self,aVal,bVal,opVal):\n",
    "        self.a = aVal\n",
    "        self.b = bVal\n",
    "        self.op = opVal\n",
    "\n",
    "    \n",
    "    def addValue(self):\n",
    "        return self.a+ self.b\n",
    "        \n",
    "\n",
    "m1 = mathOperation(10,9,'Add')\n",
    "\n",
    "m1.addValue()"
   ]
  },
  {
   "cell_type": "markdown",
   "id": "3c1900e3",
   "metadata": {},
   "source": [
    "# sub value\n"
   ]
  },
  {
   "cell_type": "code",
   "execution_count": 6,
   "id": "4c0b4565",
   "metadata": {},
   "outputs": [
    {
     "data": {
      "text/plain": [
       "70"
      ]
     },
     "execution_count": 6,
     "metadata": {},
     "output_type": "execute_result"
    }
   ],
   "source": [
    "class mathOperation:\n",
    "    x = 120\n",
    "    y = 50\n",
    "    op = ''\n",
    "\n",
    "    def __init__(self,xVal,yVal,opVal):\n",
    "        self.x = xVal\n",
    "        self.y = yVal\n",
    "        self.op = opVal\n",
    "\n",
    "    \n",
    "    def addValue(self):\n",
    "        return self.x - self.y\n",
    "        \n",
    "\n",
    "m1 = mathOperation(120,50,'sub')\n",
    "\n",
    "m1.addValue()"
   ]
  },
  {
   "cell_type": "markdown",
   "id": "14405dec",
   "metadata": {},
   "source": [
    "# mul value"
   ]
  },
  {
   "cell_type": "code",
   "execution_count": 7,
   "id": "e8a36fcd",
   "metadata": {},
   "outputs": [
    {
     "data": {
      "text/plain": [
       "120"
      ]
     },
     "execution_count": 7,
     "metadata": {},
     "output_type": "execute_result"
    }
   ],
   "source": [
    "class mathoperation:\n",
    "    p = 24\n",
    "    q = 5\n",
    "    op = ''\n",
    "\n",
    "    def __init__(self,pval,qval,opval):\n",
    "        self.p = pval\n",
    "        self.q = qval\n",
    "        self.op = opval\n",
    "\n",
    "    def addvalue(self):\n",
    "        return self.p * self.q\n",
    "    \n",
    "m1 = mathoperation(24,5,'mul')\n",
    "\n",
    "m1.addvalue()"
   ]
  },
  {
   "cell_type": "markdown",
   "id": "2332abd6",
   "metadata": {},
   "source": [
    "# div value"
   ]
  },
  {
   "cell_type": "code",
   "execution_count": 8,
   "id": "b627e56a",
   "metadata": {},
   "outputs": [
    {
     "data": {
      "text/plain": [
       "50.0"
      ]
     },
     "execution_count": 8,
     "metadata": {},
     "output_type": "execute_result"
    }
   ],
   "source": [
    "class mathoperation:\n",
    "    m = 100\n",
    "    n = 2\n",
    "    op = ''\n",
    "\n",
    "    def __init__(self,mval,nval,opval):\n",
    "        self.m = mval\n",
    "        self.n = nval\n",
    "        self.op = opval\n",
    "\n",
    "    def addvalue(self):\n",
    "        return self.m / self.n\n",
    "    \n",
    "m1 = mathoperation(100,2,'div')\n",
    "\n",
    "m1.addvalue()"
   ]
  },
  {
   "cell_type": "code",
   "execution_count": null,
   "id": "bd5d8276",
   "metadata": {},
   "outputs": [],
   "source": []
  }
 ],
 "metadata": {
  "kernelspec": {
   "display_name": "Python 3",
   "language": "python",
   "name": "python3"
  },
  "language_info": {
   "codemirror_mode": {
    "name": "ipython",
    "version": 3
   },
   "file_extension": ".py",
   "mimetype": "text/x-python",
   "name": "python",
   "nbconvert_exporter": "python",
   "pygments_lexer": "ipython3",
   "version": "3.9.12"
  }
 },
 "nbformat": 4,
 "nbformat_minor": 5
}
